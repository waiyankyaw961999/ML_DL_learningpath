{
  "nbformat": 4,
  "nbformat_minor": 0,
  "metadata": {
    "colab": {
      "name": "Neural Network from Scratch in TensorFlow.ipynb",
      "provenance": [],
      "mount_file_id": "10lPfwwfxyegwmXAIqEyrDeUXgbSJDgPi",
      "authorship_tag": "ABX9TyPmNBikgRtv1f1DH4lzlsS1",
      "include_colab_link": true
    },
    "kernelspec": {
      "name": "python3",
      "display_name": "Python 3"
    },
    "accelerator": "GPU"
  },
  "cells": [
    {
      "cell_type": "markdown",
      "metadata": {
        "id": "view-in-github",
        "colab_type": "text"
      },
      "source": [
        "<a href=\"https://colab.research.google.com/github/waiyankyaw961999/ML_DL_learningpath/blob/master/Guided%20Project/Neural_Network_from_Scratch_in_TensorFlow/Neural_Network_from_Scratch_in_TensorFlow.ipynb\" target=\"_parent\"><img src=\"https://colab.research.google.com/assets/colab-badge.svg\" alt=\"Open In Colab\"/></a>"
      ]
    },
    {
      "cell_type": "markdown",
      "metadata": {
        "id": "vHAz5dfKmvrs"
      },
      "source": [
        "#Project-based Course \n",
        "\n",
        "Course Name - **[Neural Network from Scratch in TensorFlow ](https://www.coursera.org/learn/neural-network-tensorflow)**\n",
        "\n",
        "Instructor - **Amit**\n",
        "\n",
        "**This notebook is not 100% identical to original author's notebook.**\n",
        "\n",
        "##Course Objectives\n",
        "In this course, we are going to focus on two learning objectives:\n",
        "\n",
        "* How to implement a neural network model from scratch using TensorFlow.\n",
        "Solving a multi-class classification problem using the neural network implementation.\n",
        "* By the end of this course, you will be able to implement a Neural Network model in TensorFlow using its core functionality. You will also implement the gradient descent algorithm with the help of TensorFlow's automatic differentiation. Finally, you will be able to use this implementation to solve a multi-class classification problem."
      ]
    },
    {
      "cell_type": "markdown",
      "metadata": {
        "id": "VsE6T52foB_S"
      },
      "source": [
        "##Task1: Initializing Neural Network\n",
        "\n",
        "* Creating the Neural Network class.\n",
        "* Understanding the init function.\n",
        "* Setting up initial parameter values.\n"
      ]
    },
    {
      "cell_type": "code",
      "metadata": {
        "id": "m6UbviiNz5o9",
        "outputId": "cc3761d9-bfe0-4807-b064-5e8361dbe3e9",
        "colab": {
          "base_uri": "https://localhost:8080/",
          "height": 33
        }
      },
      "source": [
        "%cd \"/content/drive/My Drive/Colab Notebooks/ML_DL_learningpath\"\n",
        "# changing directory to the current root\n",
        "import tensorflow as tf\n",
        "import numpy as np\n",
        "import matplotlib.pyplot as plt\n",
        "import nn_utils\n",
        "%matplotlib inline"
      ],
      "execution_count": 1,
      "outputs": [
        {
          "output_type": "stream",
          "text": [
            "/content/drive/My Drive/Colab Notebooks/ML_DL_learningpath\n"
          ],
          "name": "stdout"
        }
      ]
    },
    {
      "cell_type": "code",
      "metadata": {
        "id": "-GZGnLby6Zzu"
      },
      "source": [
        "class NeuralNetwork:\n",
        "    def __init__(self, layers):\n",
        "        self.layers = layers\n",
        "        self.L = len(layers)\n",
        "        self.num_features = layers[0]\n",
        "        self.num_classes = layers[-1]\n",
        "    \n",
        "        self.W = {}\n",
        "        self.b = {}\n",
        "        self.dW = {}\n",
        "        self.db = {}\n",
        "        self.setup()\n",
        "    def setup(self):\n",
        "\n",
        "      for i in range(1, self.L):\n",
        "        self.W[i] = tf.Variable(tf.random.normal(shape=(self.layers[i],\n",
        "                                                        self.layers[i-1])))\n",
        "        self.b[i] = tf.Variable(tf.random.normal(shape = (self.layers[i],\n",
        "                                                        1)))\n"
      ],
      "execution_count": 2,
      "outputs": []
    },
    {
      "cell_type": "markdown",
      "metadata": {
        "id": "JUH0cn8GoK1E"
      },
      "source": [
        "##Task 2: Forward Pass\n",
        "* Creating a forward pass function."
      ]
    },
    {
      "cell_type": "code",
      "metadata": {
        "id": "dv-hsQlvz5_-"
      },
      "source": [
        "class NeuralNetwork(NeuralNetwork):\n",
        "  def forward_pass(self,X):\n",
        "    A = tf.convert_to_tensor(X,dtype = tf.float32)\n",
        "    for i in range(1,self.L):\n",
        "      Z = tf.matmul(A,tf.transpose(self.W[i]))+tf.transpose(self.b[i])\n",
        "      if i !=self.L-1:\n",
        "        A =tf.nn.relu(Z)\n",
        "      else: \n",
        "        A = Z\n",
        "    return A"
      ],
      "execution_count": 3,
      "outputs": []
    },
    {
      "cell_type": "markdown",
      "metadata": {
        "id": "yGtQIsjwoQrW"
      },
      "source": [
        "##Task 3: Computing Loss and Updating Parameters\n",
        "\n",
        "* Using the cross entropy loss with logits.\n",
        "* Updating parameters for all the layers."
      ]
    },
    {
      "cell_type": "code",
      "metadata": {
        "id": "kf71HgvYz6W4"
      },
      "source": [
        "class NeuralNetwork(NeuralNetwork):\n",
        "  def compute_loss(self,A,Y):\n",
        "    loss = tf.nn.softmax_cross_entropy_with_logits(Y,A)\n",
        "    return tf.reduce_mean(loss) \n",
        "\n",
        "  def update_params(self, lr):\n",
        "    for i in range(1,self.L):\n",
        "      self.W[i].assign_sub(lr*self.dW[i])\n",
        "      self.b[i].assign_sub(lr*self.db[i]) "
      ],
      "execution_count": 4,
      "outputs": []
    },
    {
      "cell_type": "markdown",
      "metadata": {
        "id": "DlELwj3xoU5m"
      },
      "source": [
        "##Task 4: Predict and Info Functions\n",
        "\n",
        "* Understanding the pre-written info function.\n",
        "* Creating a predict function with the help of the forward pass."
      ]
    },
    {
      "cell_type": "code",
      "metadata": {
        "id": "ZIUVWMp5z6sU"
      },
      "source": [
        "class NeuralNetwork(NeuralNetwork):\n",
        "  def predict(self,X):\n",
        "    A = self.forward_pass(X)\n",
        "    return tf.argmax(tf.nn.softmax(A),axis = 1)\n",
        "\n",
        "  def info(self):\n",
        "        num_params = 0\n",
        "        for i in range(1, self.L):\n",
        "            num_params += self.W[i].shape[0]*self.W[i].shape[1]\n",
        "            num_params += self.b[i].shape[0]\n",
        "        print('Input Features:', self.num_features)\n",
        "        print('Number of Classes:', self.num_classes)\n",
        "        print('Hidden Layers:')\n",
        "        print('--------------')\n",
        "        for i in range(1, self.L-1):\n",
        "            print('Layer {}, Units {}'.format(i, self.layers[i]))\n",
        "        print('--------------')\n",
        "        print('Number of parameters:', num_params)\n"
      ],
      "execution_count": 5,
      "outputs": []
    },
    {
      "cell_type": "markdown",
      "metadata": {
        "id": "b29oFqlboYsA"
      },
      "source": [
        "##Task 5: Training on Batch\n",
        "\n",
        "* Creating the main training mechanism.\n",
        "* Implementing gradient descent with automatic differentiation."
      ]
    },
    {
      "cell_type": "code",
      "metadata": {
        "id": "n3IsJk8wz7Ar"
      },
      "source": [
        "class NeuralNetwork(NeuralNetwork):\n",
        "  def train_on_batch(self,X,Y,lr):\n",
        "    X = tf.convert_to_tensor(X,dtype = tf.float32)\n",
        "    Y = tf.convert_to_tensor(Y,dtype = tf.float32)\n",
        "\n",
        "    with tf.GradientTape(persistent = True) as tape:\n",
        "      A = self.forward_pass(X)\n",
        "      loss = self.compute_loss(A,Y)\n",
        "    for i in range(1,self.L):\n",
        "      self.dW[i] = tape.gradient(loss,self.W[i])\n",
        "      self.db[i] = tape.gradient(loss,self.b[i])\n",
        "    \n",
        "    del tape\n",
        "    self.update_params(lr)\n",
        "    return loss.numpy()\n"
      ],
      "execution_count": 6,
      "outputs": []
    },
    {
      "cell_type": "markdown",
      "metadata": {
        "id": "k6fRjlKKocnW"
      },
      "source": [
        "##Task 6: Training on Complete Set\n",
        "\n",
        "* Breaking down data-set in batches.\n",
        "* Breaking down the training process in epochs and steps."
      ]
    },
    {
      "cell_type": "code",
      "metadata": {
        "id": "wc_oUFS5-vbm"
      },
      "source": [
        "class NeuralNetwork(NeuralNetwork):\n",
        "  def train(self, x_train, y_train, x_test, y_test,\n",
        "            epochs, steps_per_epoch, batch_size, lr):\n",
        "    \n",
        "    history = {'val_loss': [],\n",
        "              'train_loss': [],\n",
        "              'val_acc': []\n",
        "              }\n",
        "    for e in range(0,epochs):\n",
        "      epoch_train_loss = 0\n",
        "      print('Epoch {}'.format(e),end = '.')\n",
        "      for i in range(0,steps_per_epoch):\n",
        "        x_batch = x_train[i*batch_size:(i+1)*batch_size]\n",
        "        y_batch = y_train[i*batch_size:(i+1)*batch_size]\n",
        "\n",
        "        batch_loss = self.train_on_batch(x_batch,y_batch,lr)\n",
        "        epoch_train_loss += batch_loss\n",
        "\n",
        "        if i%int(steps_per_epoch/10)== 0:\n",
        "          print(end = '.')\n",
        "\n",
        "      history['train_loss'].append(epoch_train_loss/steps_per_epoch)\n",
        "      val_A = self.forward_pass(x_test)\n",
        "      val_loss = self.compute_loss(val_A,y_test).numpy()\n",
        "      history['val_loss'].append(val_loss)\n",
        "      val_preds = self.predict(x_test)\n",
        "      val_acc = np.mean(np.argmax(y_test,axis = 1) == val_preds.numpy())\n",
        "      history['val_acc'].append(val_acc)     \n",
        "      print('Val acc:', val_acc)\n",
        "\n",
        "    return history  \n",
        "      \n",
        "\n"
      ],
      "execution_count": 7,
      "outputs": []
    },
    {
      "cell_type": "markdown",
      "metadata": {
        "id": "j8km8JATosQd"
      },
      "source": [
        "##Task 7: Application\n",
        "\n",
        "* Applying the neural network model to solve a multi-class classification problem.\n",
        "* Creating model instance and setting up hyperparameters.\n",
        "* Training the model."
      ]
    },
    {
      "cell_type": "code",
      "metadata": {
        "id": "HiFsKwJY_BUu",
        "outputId": "ec1fd0fa-2040-4c94-adb8-9f83939dc3aa",
        "colab": {
          "base_uri": "https://localhost:8080/",
          "height": 289
        }
      },
      "source": [
        "(x_train,y_train),(x_test,y_test) = nn_utils.load_data()\n",
        "nn_utils.plot_random_examples(x_train,y_train).show()"
      ],
      "execution_count": 8,
      "outputs": [
        {
          "output_type": "display_data",
          "data": {
            "image/png": "[encoded data removed]",
            "text/plain": [
              "<Figure size 720x360 with 10 Axes>"
            ]
          },
          "metadata": {
            "tags": []
          }
        }
      ]
    },
    {
      "cell_type": "code",
      "metadata": {
        "id": "T8a5O1eSFA3N",
        "outputId": "40f087ee-1876-413e-ecf8-07729f9114f6",
        "colab": {
          "base_uri": "https://localhost:8080/",
          "height": 150
        }
      },
      "source": [
        "net = NeuralNetwork([784,128,128,10])\n",
        "net.info()\n"
      ],
      "execution_count": 9,
      "outputs": [
        {
          "output_type": "stream",
          "text": [
            "Input Features: 784\n",
            "Number of Classes: 10\n",
            "Hidden Layers:\n",
            "--------------\n",
            "Layer 1, Units 128\n",
            "Layer 2, Units 128\n",
            "--------------\n",
            "Number of parameters: 118282\n"
          ],
          "name": "stdout"
        }
      ]
    },
    {
      "cell_type": "code",
      "metadata": {
        "id": "K2hk5zDMFsbg",
        "outputId": "23b706d0-2a15-47ef-fa7a-37ebbe0c4a67",
        "colab": {
          "base_uri": "https://localhost:8080/",
          "height": 33
        }
      },
      "source": [
        "batch_size =200\n",
        "epochs = 20\n",
        "steps_per_epoch = int(x_train.shape[0]/batch_size)\n",
        "lr = 3e-5\n",
        "print('Steps per epoch',steps_per_epoch)"
      ],
      "execution_count": 14,
      "outputs": [
        {
          "output_type": "stream",
          "text": [
            "Steps per epoch 300\n"
          ],
          "name": "stdout"
        }
      ]
    },
    {
      "cell_type": "code",
      "metadata": {
        "id": "B8s9nyfKF5_a",
        "outputId": "4c6d70cf-747a-4d0a-aaa5-1f8025c1df19",
        "colab": {
          "base_uri": "https://localhost:8080/",
          "height": 351
        }
      },
      "source": [
        "history = net.train(x_train,y_train,\n",
        "                    x_test,y_test,\n",
        "                    epochs,steps_per_epoch,\n",
        "                    batch_size, lr)"
      ],
      "execution_count": 15,
      "outputs": [
        {
          "output_type": "stream",
          "text": [
            "Epoch 0...........Val acc: 0.2439\n",
            "Epoch 1...........Val acc: 0.296\n",
            "Epoch 2...........Val acc: 0.3352\n",
            "Epoch 3...........Val acc: 0.3709\n",
            "Epoch 4...........Val acc: 0.4007\n",
            "Epoch 5...........Val acc: 0.4289\n",
            "Epoch 6...........Val acc: 0.4493\n",
            "Epoch 7...........Val acc: 0.4688\n",
            "Epoch 8...........Val acc: 0.4866\n",
            "Epoch 9...........Val acc: 0.5035\n",
            "Epoch 10...........Val acc: 0.5172\n",
            "Epoch 11...........Val acc: 0.5298\n",
            "Epoch 12...........Val acc: 0.5417\n",
            "Epoch 13...........Val acc: 0.5529\n",
            "Epoch 14...........Val acc: 0.5621\n",
            "Epoch 15...........Val acc: 0.5721\n",
            "Epoch 16...........Val acc: 0.5813\n",
            "Epoch 17...........Val acc: 0.5902\n",
            "Epoch 18...........Val acc: 0.5979\n",
            "Epoch 19...........Val acc: 0.6047\n"
          ],
          "name": "stdout"
        }
      ]
    },
    {
      "cell_type": "markdown",
      "metadata": {
        "id": "lK1wgSVfoxr0"
      },
      "source": [
        "##Task 8: Results\n",
        "* Plotting the training results.\n",
        "* A look at predictions on the test set."
      ]
    },
    {
      "cell_type": "code",
      "metadata": {
        "id": "uBoVIwZgmVu1",
        "outputId": "5293e111-a6c6-4da6-f57e-9cb7241848ab",
        "colab": {
          "base_uri": "https://localhost:8080/",
          "height": 279
        }
      },
      "source": [
        "nn_utils.plot_results(history).show()"
      ],
      "execution_count": 16,
      "outputs": [
        {
          "output_type": "display_data",
          "data": {
            "image/png": "[encoded data removed]",
            "text/plain": [
              "<Figure size 864x288 with 2 Axes>"
            ]
          },
          "metadata": {
            "tags": [],
            "needs_background": "light"
          }
        }
      ]
    },
    {
      "cell_type": "code",
      "metadata": {
        "id": "3HOo3sseJGwx",
        "outputId": "7efe8834-5cec-4770-f9f2-5cc10484c22d",
        "colab": {
          "base_uri": "https://localhost:8080/",
          "height": 289
        }
      },
      "source": [
        "preds = net.predict(x_test)\n",
        "nn_utils.plot_random_examples(x_test,y_test,preds.numpy()).show()"
      ],
      "execution_count": 17,
      "outputs": [
        {
          "output_type": "display_data",
          "data": {
            "image/png": "[encoded data removed]",
            "text/plain": [
              "<Figure size 720x360 with 10 Axes>"
            ]
          },
          "metadata": {
            "tags": []
          }
        }
      ]
    }
  ]
}